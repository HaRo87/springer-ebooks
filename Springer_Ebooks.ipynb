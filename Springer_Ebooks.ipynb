{
 "cells": [
  {
   "cell_type": "markdown",
   "metadata": {},
   "source": [
    "# Getting the free Springer eBooks \n",
    "Springer offers some eBooks due to the COVID-19 pandemic free of charge. Instead of downloading and sorting them manually you can also use this notebook to achieve this task.\n",
    "\n",
    "Credit for putting the information out about this belongs to [Volker Weber](https://vowe.net) who published a [blog post](https://vowe.net/archives/018485.html) about this."
   ]
  },
  {
   "cell_type": "markdown",
   "metadata": {},
   "source": [
    "## Import the needed stuff\n",
    "As we're going to deal with web related stuff as well as Excel related things we're going to need to import some libs."
   ]
  },
  {
   "cell_type": "code",
   "execution_count": null,
   "metadata": {},
   "outputs": [],
   "source": [
    "import os\n",
    "import pandas as pd\n",
    "import requests"
   ]
  },
  {
   "cell_type": "markdown",
   "metadata": {},
   "source": [
    "## Small download function\n",
    "As we're about to download a couple hundred files from the web we're going to use a small function for that which uses the `requests` lib. "
   ]
  },
  {
   "cell_type": "code",
   "execution_count": null,
   "metadata": {},
   "outputs": [],
   "source": [
    "def get_stuff_from_web(url, filename):\n",
    "    if not os.path.exists(filename):\n",
    "        # get the content from the URL\n",
    "        r = requests.get(url)\n",
    "        # check if the status indicates OK\n",
    "        if r.status_code == 200:\n",
    "            # save under specified file name\n",
    "            with open(filename,'wb') as f: \n",
    "                f.write(r.content)"
   ]
  },
  {
   "cell_type": "markdown",
   "metadata": {},
   "source": [
    "## Get the source files for our operation\n",
    "The information about the freely available Springer eBooks is stored in two different `.xlsx` files on the Springer servers. One is for english eBooks and one is for the german ones. We did obtain those URLs from the blog post mentioned in the beginning. And we use our small download function to download them."
   ]
  },
  {
   "cell_type": "code",
   "execution_count": null,
   "metadata": {},
   "outputs": [],
   "source": [
    "ebooks_en_url = \"https://resource-cms.springernature.com/springer-cms/rest/v1/content/17858272/data/v4\"\n",
    "ebooks_de_url = \"https://resource-cms.springernature.com/springer-cms/rest/v1/content/17863240/data/v2\"\n",
    "  \n",
    "get_stuff_from_web(url=ebooks_en_url, filename=\"ebooks_en.xlsx\")\n",
    "get_stuff_from_web(url=ebooks_de_url, filename=\"ebooks_de.xlsx\")"
   ]
  },
  {
   "cell_type": "markdown",
   "metadata": {},
   "source": [
    "## Check the downloaded files\n",
    "Once the download is finished we should be able to see the files named `ebooks_en.xlsx` and `ebooks_de.xlsx`."
   ]
  },
  {
   "cell_type": "code",
   "execution_count": null,
   "metadata": {},
   "outputs": [],
   "source": [
    "!ls"
   ]
  },
  {
   "cell_type": "markdown",
   "metadata": {},
   "source": [
    "## Getting the english eBooks\n",
    "First we're going to take care of getting and properly naming and sorting the english eBooks. Therefore we need to use the `ebooks_en.xlsx` file. We use the `pandas` library to do that. The initial step is to load the data."
   ]
  },
  {
   "cell_type": "code",
   "execution_count": null,
   "metadata": {},
   "outputs": [],
   "source": [
    "df_en = pd.read_excel(\"ebooks_en.xlsx\")"
   ]
  },
  {
   "cell_type": "markdown",
   "metadata": {},
   "source": [
    "After loading the data we can have a first look at it via the `head()` function."
   ]
  },
  {
   "cell_type": "code",
   "execution_count": null,
   "metadata": {},
   "outputs": [],
   "source": [
    "df_en.head()"
   ]
  },
  {
   "cell_type": "markdown",
   "metadata": {},
   "source": [
    "It shows us the content of the loaded data or to be more specific the first `5` lines of it. We can see the rows and columns of the Excel file. For our purpose we're interested in the following columns:\n",
    "* `Book Title` -> for defining the file name\n",
    "* `DOI URL` -> for defining the correct download URL\n",
    "* `Subject Classification` -> for sorting\n",
    "\n",
    "We can also use the `describe()` function to see some stats about our data."
   ]
  },
  {
   "cell_type": "code",
   "execution_count": null,
   "metadata": {},
   "outputs": [],
   "source": [
    "df_en.describe()"
   ]
  },
  {
   "cell_type": "markdown",
   "metadata": {},
   "source": [
    "The most important part is the `count` value which shows that we can download `407` books."
   ]
  },
  {
   "cell_type": "markdown",
   "metadata": {},
   "source": [
    "## Download the actual eBooks\n",
    "Now we're ready to start to download all the books which are referenced in our data. \n",
    "\n",
    "**CAUTION:** You're about to download `~20GB` of data (including the german eBooks). Depending on your network connection this can take quite some time. "
   ]
  },
  {
   "cell_type": "code",
   "execution_count": null,
   "metadata": {},
   "outputs": [],
   "source": [
    "# we`re iterating over each row\n",
    "for index, row in df_en.iterrows():\n",
    "    # we want to store the eBooks in a structured way\n",
    "    # therefore we're going to use the first element in\n",
    "    # the `Subject Classification` column which will \n",
    "    # define the folder in which we're going to store \n",
    "    # the eBook\n",
    "    dir_name = row['Subject Classification'].split(\";\")[0]\n",
    "    # we're only creating a new folder if it does not exist\n",
    "    if not os.path.exists(dir_name):\n",
    "        os.makedirs(dir_name)\n",
    "    # we need to put together our download URLs\n",
    "    # for this we need two parts of the `DOI URL`\n",
    "    # so we're splitting the URL by `/`\n",
    "    doi_url = row['DOI URL'].split(\"/\")\n",
    "    # then we're generating the `.epub` URL\n",
    "    url_epub = f\"https://link.springer.com/download/epub/{doi_url[3]}%2F{doi_url[4]}.epub\"\n",
    "    # and the `.pdf` URL\n",
    "    url_pdf = f\"https://link.springer.com/content/pdf/{doi_url[3]}%2F{doi_url[4]}.pdf\"\n",
    "    # finally we're trying to download the eBook as `.epub` and `.pdf`\n",
    "    file_name = row['Book Title'].replace(r'/', '-')\n",
    "    get_stuff_from_web(url=url_epub, filename=dir_name+\"/\"+file_name+\".epub\")\n",
    "    get_stuff_from_web(url=url_pdf, filename=dir_name+\"/\"+file_name+\".pdf\")"
   ]
  },
  {
   "cell_type": "markdown",
   "metadata": {},
   "source": [
    "## Getting the german eBooks\n",
    "**NOTE:** If you're not interested in the german eBooks you can stop here and start reading the books you've downloaded so far.\n",
    "Now we're going to do the same for the german eBooks."
   ]
  },
  {
   "cell_type": "code",
   "execution_count": null,
   "metadata": {},
   "outputs": [],
   "source": [
    "df_de = pd.read_excel(\"ebooks_de.xlsx\")"
   ]
  },
  {
   "cell_type": "code",
   "execution_count": null,
   "metadata": {},
   "outputs": [],
   "source": [
    "df_de.head()"
   ]
  },
  {
   "cell_type": "code",
   "execution_count": null,
   "metadata": {},
   "outputs": [],
   "source": [
    "df_de.describe()"
   ]
  },
  {
   "cell_type": "code",
   "execution_count": null,
   "metadata": {},
   "outputs": [],
   "source": [
    "for index, row in df_de.iterrows():\n",
    "    dir_name = row['Subject Classification'].split(\";\")[0]\n",
    "    if not os.path.exists(dir_name):\n",
    "        os.makedirs(dir_name)\n",
    "    doi_url = row['DOI URL'].split(\"/\")\n",
    "    url_epub = f\"https://link.springer.com/download/epub/{doi_url[3]}%2F{doi_url[4]}.epub\"\n",
    "    url_pdf = f\"https://link.springer.com/content/pdf/{doi_url[3]}%2F{doi_url[4]}.pdf\"\n",
    "    file_name = row['Book Title'].replace(r'/', '-')\n",
    "    get_stuff_from_web(url=url_epub, filename=dir_name+\"/\"+file_name+\"_de.epub\")\n",
    "    get_stuff_from_web(url=url_pdf, filename=dir_name+\"/\"+file_name+\"_de.pdf\")"
   ]
  }
 ],
 "metadata": {
  "kernelspec": {
   "display_name": "Python 3",
   "language": "python",
   "name": "python3"
  },
  "language_info": {
   "codemirror_mode": {
    "name": "ipython",
    "version": 3
   },
   "file_extension": ".py",
   "mimetype": "text/x-python",
   "name": "python",
   "nbconvert_exporter": "python",
   "pygments_lexer": "ipython3",
   "version": "3.7.7"
  }
 },
 "nbformat": 4,
 "nbformat_minor": 4
}
